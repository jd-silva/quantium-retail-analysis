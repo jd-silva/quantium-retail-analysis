{
 "cells": [
  {
   "cell_type": "code",
   "execution_count": 1,
   "metadata": {},
   "outputs": [
    {
     "name": "stdout",
     "output_type": "stream",
     "text": [
      "  YEAR_MONTH  STORE_NBR  total_sales  total_customers  total_transactions  \\\n",
      "0    2018-07          1        206.9               49                  52   \n",
      "1    2018-07          2        150.8               39                  41   \n",
      "2    2018-07          3       1205.7              112                 138   \n",
      "3    2018-07          4       1399.9              128                 160   \n",
      "4    2018-07          5        812.0               93                 120   \n",
      "\n",
      "   avg_transactions_per_customer  \n",
      "0                       1.061224  \n",
      "1                       1.051282  \n",
      "2                       1.232143  \n",
      "3                       1.250000  \n",
      "4                       1.290323  \n"
     ]
    }
   ],
   "source": [
    "import pandas as pd\n",
    "\n",
    "# Load the dataset\n",
    "file_path = 'QVI_data.csv'  \n",
    "data = pd.read_csv(file_path)\n",
    "\n",
    "# Convert DATE column to datetime format\n",
    "data['DATE'] = pd.to_datetime(data['DATE'])\n",
    "\n",
    "# Extract year and month from DATE for aggregation\n",
    "data['YEAR_MONTH'] = data['DATE'].dt.to_period('M')\n",
    "\n",
    "# Aggregate data at a monthly level\n",
    "monthly_data = data.groupby(['YEAR_MONTH', 'STORE_NBR']).agg({\n",
    "    'TOT_SALES': 'sum',\n",
    "    'LYLTY_CARD_NBR': 'nunique',\n",
    "    'TXN_ID': 'count'\n",
    "}).reset_index()\n",
    "\n",
    "# Rename columns for clarity\n",
    "monthly_data.rename(columns={\n",
    "    'TOT_SALES': 'total_sales',\n",
    "    'LYLTY_CARD_NBR': 'total_customers',\n",
    "    'TXN_ID': 'total_transactions'\n",
    "}, inplace=True)\n",
    "\n",
    "# Calculate average number of transactions per customer\n",
    "monthly_data['avg_transactions_per_customer'] = monthly_data['total_transactions'] / monthly_data['total_customers']\n",
    "\n",
    "# Display the first few rows of the aggregated data\n",
    "print(monthly_data.head())\n"
   ]
  }
 ],
 "metadata": {
  "kernelspec": {
   "display_name": "Python 3",
   "language": "python",
   "name": "python3"
  },
  "language_info": {
   "codemirror_mode": {
    "name": "ipython",
    "version": 3
   },
   "file_extension": ".py",
   "mimetype": "text/x-python",
   "name": "python",
   "nbconvert_exporter": "python",
   "pygments_lexer": "ipython3",
   "version": "3.10.12"
  },
  "orig_nbformat": 4
 },
 "nbformat": 4,
 "nbformat_minor": 2
}
